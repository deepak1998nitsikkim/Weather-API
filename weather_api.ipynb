{
 "cells": [
  {
   "cell_type": "code",
   "execution_count": 1,
   "id": "b83631e1",
   "metadata": {},
   "outputs": [],
   "source": [
    "import requests\n",
    "import json"
   ]
  },
  {
   "cell_type": "code",
   "execution_count": 2,
   "id": "aafcc2b5",
   "metadata": {},
   "outputs": [
    {
     "name": "stdout",
     "output_type": "stream",
     "text": [
      "Enter city : ludhiana\n"
     ]
    }
   ],
   "source": [
    "city=input('Enter city : ')\n",
    "\n",
    "url=f\"https://api.weatherapi.com/v1/current.json?key=6c49bea7e1224edeafc151334230807&q={city}\"\n",
    "\n",
    "r=requests.get(url)"
   ]
  },
  {
   "cell_type": "code",
   "execution_count": 3,
   "id": "eea57303",
   "metadata": {},
   "outputs": [
    {
     "data": {
      "text/plain": [
       "'{\"location\":{\"name\":\"Ludhiana\",\"region\":\"Punjab\",\"country\":\"India\",\"lat\":30.9,\"lon\":75.85,\"tz_id\":\"Asia/Kolkata\",\"localtime_epoch\":1689457278,\"localtime\":\"2023-07-16 3:11\"},\"current\":{\"last_updated_epoch\":1689456600,\"last_updated\":\"2023-07-16 03:00\",\"temp_c\":29.2,\"temp_f\":84.6,\"is_day\":0,\"condition\":{\"text\":\"Clear\",\"icon\":\"//cdn.weatherapi.com/weather/64x64/night/113.png\",\"code\":1000},\"wind_mph\":9.6,\"wind_kph\":15.5,\"wind_degree\":122,\"wind_dir\":\"ESE\",\"pressure_mb\":999.0,\"pressure_in\":29.5,\"precip_mm\":0.0,\"precip_in\":0.0,\"humidity\":75,\"cloud\":14,\"feelslike_c\":34.1,\"feelslike_f\":93.4,\"vis_km\":10.0,\"vis_miles\":6.0,\"uv\":1.0,\"gust_mph\":14.8,\"gust_kph\":23.8}}'"
      ]
     },
     "execution_count": 3,
     "metadata": {},
     "output_type": "execute_result"
    }
   ],
   "source": [
    "r.text"
   ]
  },
  {
   "cell_type": "code",
   "execution_count": 4,
   "id": "52465892",
   "metadata": {},
   "outputs": [],
   "source": [
    "d=json.loads(r.text)"
   ]
  },
  {
   "cell_type": "code",
   "execution_count": 5,
   "id": "4d3a8d20",
   "metadata": {},
   "outputs": [
    {
     "data": {
      "text/plain": [
       "{'location': {'name': 'Ludhiana',\n",
       "  'region': 'Punjab',\n",
       "  'country': 'India',\n",
       "  'lat': 30.9,\n",
       "  'lon': 75.85,\n",
       "  'tz_id': 'Asia/Kolkata',\n",
       "  'localtime_epoch': 1689457278,\n",
       "  'localtime': '2023-07-16 3:11'},\n",
       " 'current': {'last_updated_epoch': 1689456600,\n",
       "  'last_updated': '2023-07-16 03:00',\n",
       "  'temp_c': 29.2,\n",
       "  'temp_f': 84.6,\n",
       "  'is_day': 0,\n",
       "  'condition': {'text': 'Clear',\n",
       "   'icon': '//cdn.weatherapi.com/weather/64x64/night/113.png',\n",
       "   'code': 1000},\n",
       "  'wind_mph': 9.6,\n",
       "  'wind_kph': 15.5,\n",
       "  'wind_degree': 122,\n",
       "  'wind_dir': 'ESE',\n",
       "  'pressure_mb': 999.0,\n",
       "  'pressure_in': 29.5,\n",
       "  'precip_mm': 0.0,\n",
       "  'precip_in': 0.0,\n",
       "  'humidity': 75,\n",
       "  'cloud': 14,\n",
       "  'feelslike_c': 34.1,\n",
       "  'feelslike_f': 93.4,\n",
       "  'vis_km': 10.0,\n",
       "  'vis_miles': 6.0,\n",
       "  'uv': 1.0,\n",
       "  'gust_mph': 14.8,\n",
       "  'gust_kph': 23.8}}"
      ]
     },
     "execution_count": 5,
     "metadata": {},
     "output_type": "execute_result"
    }
   ],
   "source": [
    "d"
   ]
  },
  {
   "cell_type": "code",
   "execution_count": 6,
   "id": "c36ee339",
   "metadata": {},
   "outputs": [
    {
     "data": {
      "text/plain": [
       "29.2"
      ]
     },
     "execution_count": 6,
     "metadata": {},
     "output_type": "execute_result"
    }
   ],
   "source": [
    "d[\"current\"][\"temp_c\"]"
   ]
  },
  {
   "cell_type": "code",
   "execution_count": 7,
   "id": "4bc88325",
   "metadata": {},
   "outputs": [
    {
     "data": {
      "text/plain": [
       "{'last_updated_epoch': 1689456600,\n",
       " 'last_updated': '2023-07-16 03:00',\n",
       " 'temp_c': 29.2,\n",
       " 'temp_f': 84.6,\n",
       " 'is_day': 0,\n",
       " 'condition': {'text': 'Clear',\n",
       "  'icon': '//cdn.weatherapi.com/weather/64x64/night/113.png',\n",
       "  'code': 1000},\n",
       " 'wind_mph': 9.6,\n",
       " 'wind_kph': 15.5,\n",
       " 'wind_degree': 122,\n",
       " 'wind_dir': 'ESE',\n",
       " 'pressure_mb': 999.0,\n",
       " 'pressure_in': 29.5,\n",
       " 'precip_mm': 0.0,\n",
       " 'precip_in': 0.0,\n",
       " 'humidity': 75,\n",
       " 'cloud': 14,\n",
       " 'feelslike_c': 34.1,\n",
       " 'feelslike_f': 93.4,\n",
       " 'vis_km': 10.0,\n",
       " 'vis_miles': 6.0,\n",
       " 'uv': 1.0,\n",
       " 'gust_mph': 14.8,\n",
       " 'gust_kph': 23.8}"
      ]
     },
     "execution_count": 7,
     "metadata": {},
     "output_type": "execute_result"
    }
   ],
   "source": [
    "d['current']"
   ]
  },
  {
   "cell_type": "code",
   "execution_count": 8,
   "id": "6188f013",
   "metadata": {},
   "outputs": [
    {
     "data": {
      "text/plain": [
       "{'last_updated_epoch': 1689456600,\n",
       " 'last_updated': '2023-07-16 03:00',\n",
       " 'temp_c': 29.2,\n",
       " 'temp_f': 84.6,\n",
       " 'is_day': 0,\n",
       " 'condition': {'text': 'Clear',\n",
       "  'icon': '//cdn.weatherapi.com/weather/64x64/night/113.png',\n",
       "  'code': 1000},\n",
       " 'wind_mph': 9.6,\n",
       " 'wind_kph': 15.5,\n",
       " 'wind_degree': 122,\n",
       " 'wind_dir': 'ESE',\n",
       " 'pressure_mb': 999.0,\n",
       " 'pressure_in': 29.5,\n",
       " 'precip_mm': 0.0,\n",
       " 'precip_in': 0.0,\n",
       " 'humidity': 75,\n",
       " 'cloud': 14,\n",
       " 'feelslike_c': 34.1,\n",
       " 'feelslike_f': 93.4,\n",
       " 'vis_km': 10.0,\n",
       " 'vis_miles': 6.0,\n",
       " 'uv': 1.0,\n",
       " 'gust_mph': 14.8,\n",
       " 'gust_kph': 23.8}"
      ]
     },
     "execution_count": 8,
     "metadata": {},
     "output_type": "execute_result"
    }
   ],
   "source": [
    "d['current']"
   ]
  },
  {
   "cell_type": "code",
   "execution_count": 10,
   "id": "62a7f7bc",
   "metadata": {},
   "outputs": [],
   "source": [
    "import pyttsx3\n",
    "\n",
    "engine = pyttsx3.init()\n",
    "engine.say(d['current']['condition']['code'])\n",
    "engine.runAndWait()\n"
   ]
  },
  {
   "cell_type": "code",
   "execution_count": 17,
   "id": "92290f3d",
   "metadata": {},
   "outputs": [
    {
     "name": "stdout",
     "output_type": "stream",
     "text": [
      "Ludhiana\n",
      "Punjab\n",
      "India\n"
     ]
    }
   ],
   "source": [
    "import pyttsx3\n",
    "\n",
    "engine = pyttsx3.init()\n",
    "engine.say(d['location']['name'])\n",
    "engine.say(d['location']['region'])\n",
    "engine.say(d['location']['country'])\n",
    "engine.runAndWait()\n",
    "\n",
    "print(d['location']['name'])\n",
    "print(d['location']['region'])\n",
    "print(d['location']['country'])"
   ]
  },
  {
   "cell_type": "code",
   "execution_count": null,
   "id": "177d9fe8",
   "metadata": {},
   "outputs": [],
   "source": []
  }
 ],
 "metadata": {
  "kernelspec": {
   "display_name": "Python 3 (ipykernel)",
   "language": "python",
   "name": "python3"
  },
  "language_info": {
   "codemirror_mode": {
    "name": "ipython",
    "version": 3
   },
   "file_extension": ".py",
   "mimetype": "text/x-python",
   "name": "python",
   "nbconvert_exporter": "python",
   "pygments_lexer": "ipython3",
   "version": "3.9.13"
  }
 },
 "nbformat": 4,
 "nbformat_minor": 5
}
